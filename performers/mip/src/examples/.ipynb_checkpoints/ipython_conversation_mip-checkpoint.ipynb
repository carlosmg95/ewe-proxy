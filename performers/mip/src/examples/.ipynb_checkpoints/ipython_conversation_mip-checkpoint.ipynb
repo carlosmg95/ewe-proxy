{
 "cells": [
  {
   "cell_type": "code",
   "execution_count": 3,
   "metadata": {
    "collapsed": false
   },
   "outputs": [],
   "source": [
    "import json\n",
    "from watson_developer_cloud import ConversationV1\n",
    "conversation = ConversationV1(\n",
    "    username='65029d62-753f-4c46-9792-ad1883a080b4',\n",
    "    password='0ubBfwd0goTj',\n",
    "    version='2016-09-20')\n",
    "workspace_id = '0a0c06c1-8e31-4655-9067-58fcac5134fc'"
   ]
  },
  {
   "cell_type": "code",
   "execution_count": null,
   "metadata": {
    "collapsed": true
   },
   "outputs": [],
   "source": []
  },
  {
   "cell_type": "code",
   "execution_count": null,
   "metadata": {
    "collapsed": true
   },
   "outputs": [],
   "source": []
  }
 ],
 "metadata": {
  "kernelspec": {
   "display_name": "Python 3",
   "language": "python",
   "name": "python3"
  },
  "language_info": {
   "codemirror_mode": {
    "name": "ipython",
    "version": 3
   },
   "file_extension": ".py",
   "mimetype": "text/x-python",
   "name": "python",
   "nbconvert_exporter": "python",
   "pygments_lexer": "ipython3",
   "version": "3.5.2"
  }
 },
 "nbformat": 4,
 "nbformat_minor": 2
}
